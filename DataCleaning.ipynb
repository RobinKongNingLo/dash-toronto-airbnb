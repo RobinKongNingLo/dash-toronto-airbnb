{
 "cells": [
  {
   "cell_type": "code",
   "execution_count": 3,
   "metadata": {},
   "outputs": [],
   "source": [
    "import pandas as pd\n",
    "import json\n",
    "import glob\n",
    "from functools import reduce\n",
    "\n",
    "pd.options.display.max_columns = None"
   ]
  },
  {
   "cell_type": "code",
   "execution_count": 68,
   "metadata": {},
   "outputs": [
    {
     "name": "stdout",
     "output_type": "stream",
     "text": [
      "data\\listings 2018 Dec.csv.gz\n",
      "data\\listings 2018 Nov.csv.gz\n",
      "data\\listings 2019 Apr.csv.gz\n",
      "data\\listings 2019 Aug.csv.gz\n",
      "data\\listings 2019 Dec.csv.gz\n",
      "data\\listings 2019 Feb.csv.gz\n",
      "data\\listings 2019 Jan.csv.gz\n",
      "data\\listings 2019 Jul.csv.gz\n",
      "data\\listings 2019 Jun.csv.gz\n",
      "data\\listings 2019 Mar.csv.gz\n",
      "data\\listings 2019 May.csv.gz\n",
      "data\\listings 2019 Nov.csv.gz\n",
      "data\\listings 2019 Oct.csv.gz\n",
      "data\\listings 2019 Sep.csv.gz\n",
      "data\\listings 2020 Apr.csv.gz\n",
      "data\\listings 2020 Aug.csv.gz\n",
      "data\\listings 2020 Feb.csv.gz\n",
      "data\\listings 2020 Jan.csv.gz\n",
      "data\\listings 2020 Jul.csv.gz\n",
      "data\\listings 2020 Jun.csv.gz\n",
      "data\\listings 2020 Mar.csv.gz\n",
      "data\\listings 2020 May.csv.gz\n",
      "data\\listings 2020 Oct.csv.gz\n",
      "data\\listings 2020 Sep.csv.gz\n"
     ]
    }
   ],
   "source": [
    "#Get the file names from data folder\n",
    "all_files = glob.glob('data' + '/*.csv.gz')\n",
    "\n",
    "column_order = ['neighbourhood_cleansed', 'room_type', '2018 Nov', '2018 Dec', '2019 Jan', '2019 Feb', '2019 Mar',\n",
    "                '2019 Apr', '2019 May', '2019 Jun', '2019 Jul', '2019 Aug', '2019 Sep', '2019 Oct',\n",
    "                '2019 Nov', '2019 Dec', '2020 Jan', '2020 Feb', '2020 Mar', '2020 Apr', '2020 May',\n",
    "                '2020 Jun', '2020 Jul', '2020 Aug', '2020 Sep', '2020 Oct']\n",
    "\n",
    "#We only consider private rooms and entire homes as other room types are rare\n",
    "revenue_dfs = []\n",
    "price_dfs = []\n",
    "occupancy_dfs = []\n",
    "count_dfs = []\n",
    "\n",
    "for filename in all_files: \n",
    "    print(filename)\n",
    "    df = pd.read_csv(filename, compression='gzip')\n",
    "    #Convert price to int datatype\n",
    "    df.price.replace('[\\$\\,]', '', regex=True, inplace = True)\n",
    "    df['price'] = df['price'].astype(float)\n",
    "    df['price_per_accommodate'] = (df['price'] / df['accommodates']).round(decimals=2)\n",
    "    #Occupancy of the last 30 days\n",
    "    df['occupancy'] = 30 - df['availability_30']\n",
    "    #Revenue of the last 30 days\n",
    "    df['revenue'] = df['price_per_accommodate'] * df['occupancy']\n",
    "    #Original dataframs are too large, so we only keep the features we want\n",
    "    df = df[['id', 'neighbourhood_cleansed', 'longitude', 'latitude', 'room_type', 'price_per_accommodate', 'occupancy', 'revenue']]\n",
    "    #Most of the properties with very high price (>$250/person) or occupanc=30 cannot be booked all the time, we consider them as noises and dicided to eliminate them\n",
    "    df = df.loc[(df['price_per_accommodate'] <= 250) & (df['occupancy'] < 30)]\n",
    "    #seperate dataframe by private room and entire room\n",
    "    df = df.loc[(df['room_type'] == 'Private room') | (df['room_type'] == 'Entire home/apt')]\n",
    "    #Write the cleaned dataframe\n",
    "    df.to_csv('data_cleaned'+filename[4:], index = False, compression='gzip')\n",
    "    #Average price, occupancy and revenue of each room type by neighbours of the last 30 days\n",
    "    df_price = df.groupby(['room_type', 'neighbourhood_cleansed'])['price_per_accommodate'].mean().round(decimals=2).reset_index(name = filename[14:22])\n",
    "    df_revenue = df.groupby(['room_type', 'neighbourhood_cleansed'])['revenue'].mean().round(decimals=2).reset_index(name = filename[14:22])\n",
    "    df_occupancy = df.groupby(['room_type', 'neighbourhood_cleansed'])['occupancy'].mean().round(decimals=2).reset_index(name = filename[14:22])\n",
    "    df_count = df.groupby(['room_type', 'neighbourhood_cleansed']).size().reset_index(name = filename[14:22])\n",
    "    #Average price, occupancy and revenue of both room types\n",
    "    df[['room_type']] = 'Both'\n",
    "    df_both_price = df.groupby(['room_type', 'neighbourhood_cleansed'])['price_per_accommodate'].mean().round(decimals=2).reset_index(name = filename[14:22])\n",
    "    df_both_revenue = df.groupby(['room_type', 'neighbourhood_cleansed'])['revenue'].mean().round(decimals=2).reset_index(name = filename[14:22])\n",
    "    df_both_occupancy = df.groupby(['room_type', 'neighbourhood_cleansed'])['occupancy'].mean().round(decimals=2).reset_index(name = filename[14:22])\n",
    "    df_both_count = df.groupby(['room_type', 'neighbourhood_cleansed']).size().reset_index(name = filename[14:22])\n",
    "    #Concat dataframe of seperate room type average with both room types average\n",
    "    df_price = pd.concat([df_price, df_both_price])\n",
    "    df_revenue = pd.concat([df_revenue, df_both_revenue])\n",
    "    df_occupancy = pd.concat([df_occupancy, df_both_occupancy])\n",
    "    df_count = pd.concat([df_count, df_both_count])\n",
    "    price_dfs.append(df_price)\n",
    "    revenue_dfs.append(df_revenue)\n",
    "    occupancy_dfs.append(df_occupancy)\n",
    "    count_dfs.append(df_count)\n",
    "    \n",
    "df_price = reduce(lambda left,right: pd.merge(left,right,on=['room_type', 'neighbourhood_cleansed'], how='outer'), price_dfs)\n",
    "df_price = df_price[column_order].fillna(0)\n",
    "\n",
    "df_revenue = reduce(lambda left,right: pd.merge(left,right,on=['room_type', 'neighbourhood_cleansed'], how='outer'), revenue_dfs)\n",
    "df_revenue = df_revenue[column_order].fillna(0)\n",
    "\n",
    "df_occupancy = reduce(lambda left,right: pd.merge(left,right,on=['room_type', 'neighbourhood_cleansed'], how='outer'), occupancy_dfs)\n",
    "df_occupancy = df_occupancy[column_order].fillna(0)\n",
    "\n",
    "df_count = reduce(lambda left,right: pd.merge(left,right,on=['room_type', 'neighbourhood_cleansed'], how='outer'), count_dfs)\n",
    "df_count = df_count[column_order].fillna(0)"
   ]
  },
  {
   "cell_type": "code",
   "execution_count": 69,
   "metadata": {},
   "outputs": [],
   "source": [
    "df_price.to_csv('data_cleaned/price.csv.gz', index = False, compression = 'gzip')\n",
    "df_revenue.to_csv('data_cleaned/revenue.csv.gz', index = False, compression = 'gzip')\n",
    "df_occupancy.to_csv('data_cleaned/occupancy.csv.gz', index = False, compression = 'gzip')\n",
    "df_count.to_csv('data_cleaned/count.csv.gz', index = False, compression = 'gzip')"
   ]
  },
  {
   "cell_type": "markdown",
   "metadata": {},
   "source": [
    "# 分割綫------------------------"
   ]
  },
  {
   "cell_type": "code",
   "execution_count": 10,
   "metadata": {},
   "outputs": [
    {
     "data": {
      "text/plain": [
       "[1, 2]"
      ]
     },
     "execution_count": 10,
     "metadata": {},
     "output_type": "execute_result"
    }
   ],
   "source": [
    "import re\n",
    "import fnmatch\n",
    "[dic[key] for key in dic.keys() if fnmatch.fnmatch(key, '*dec')]"
   ]
  },
  {
   "cell_type": "code",
   "execution_count": 19,
   "metadata": {},
   "outputs": [
    {
     "data": {
      "text/html": [
       "<div>\n",
       "<style scoped>\n",
       "    .dataframe tbody tr th:only-of-type {\n",
       "        vertical-align: middle;\n",
       "    }\n",
       "\n",
       "    .dataframe tbody tr th {\n",
       "        vertical-align: top;\n",
       "    }\n",
       "\n",
       "    .dataframe thead th {\n",
       "        text-align: right;\n",
       "    }\n",
       "</style>\n",
       "<table border=\"1\" class=\"dataframe\">\n",
       "  <thead>\n",
       "    <tr style=\"text-align: right;\">\n",
       "      <th></th>\n",
       "      <th>room_type</th>\n",
       "      <th>neighbourhood_cleansed</th>\n",
       "      <th>2020 sep</th>\n",
       "    </tr>\n",
       "  </thead>\n",
       "  <tbody>\n",
       "    <tr>\n",
       "      <th>0</th>\n",
       "      <td>Entire home/apt</td>\n",
       "      <td>Agincourt North</td>\n",
       "      <td>23.12</td>\n",
       "    </tr>\n",
       "    <tr>\n",
       "      <th>1</th>\n",
       "      <td>Entire home/apt</td>\n",
       "      <td>Agincourt South-Malvern West</td>\n",
       "      <td>28.85</td>\n",
       "    </tr>\n",
       "    <tr>\n",
       "      <th>2</th>\n",
       "      <td>Entire home/apt</td>\n",
       "      <td>Alderwood</td>\n",
       "      <td>34.50</td>\n",
       "    </tr>\n",
       "    <tr>\n",
       "      <th>3</th>\n",
       "      <td>Entire home/apt</td>\n",
       "      <td>Annex</td>\n",
       "      <td>61.49</td>\n",
       "    </tr>\n",
       "    <tr>\n",
       "      <th>4</th>\n",
       "      <td>Entire home/apt</td>\n",
       "      <td>Banbury-Don Mills</td>\n",
       "      <td>39.73</td>\n",
       "    </tr>\n",
       "  </tbody>\n",
       "</table>\n",
       "</div>"
      ],
      "text/plain": [
       "         room_type        neighbourhood_cleansed  2020 sep\n",
       "0  Entire home/apt               Agincourt North     23.12\n",
       "1  Entire home/apt  Agincourt South-Malvern West     28.85\n",
       "2  Entire home/apt                     Alderwood     34.50\n",
       "3  Entire home/apt                         Annex     61.49\n",
       "4  Entire home/apt             Banbury-Don Mills     39.73"
      ]
     },
     "execution_count": 19,
     "metadata": {},
     "output_type": "execute_result"
    }
   ],
   "source": [
    "df = pd.read_csv(filename, compression='gzip')\n",
    "df.price.replace('[\\$\\,]', '', regex=True, inplace = True)\n",
    "df['price'] = df['price'].astype(float)\n",
    "df['price_per_accommodate'] = df['price'] / df['accommodates']\n",
    "PR_price = df.groupby(['room_type', 'neighbourhood_cleansed'])['price_per_accommodate'].mean().round(decimals=2).reset_index(name = filename[14:22])\n",
    "PR_price.head()"
   ]
  },
  {
   "cell_type": "code",
   "execution_count": 17,
   "metadata": {},
   "outputs": [
    {
     "data": {
      "text/html": [
       "<div>\n",
       "<style scoped>\n",
       "    .dataframe tbody tr th:only-of-type {\n",
       "        vertical-align: middle;\n",
       "    }\n",
       "\n",
       "    .dataframe tbody tr th {\n",
       "        vertical-align: top;\n",
       "    }\n",
       "\n",
       "    .dataframe thead th {\n",
       "        text-align: right;\n",
       "    }\n",
       "</style>\n",
       "<table border=\"1\" class=\"dataframe\">\n",
       "  <thead>\n",
       "    <tr style=\"text-align: right;\">\n",
       "      <th></th>\n",
       "      <th>price_per_accommodate</th>\n",
       "    </tr>\n",
       "    <tr>\n",
       "      <th>neighbourhood_cleansed</th>\n",
       "      <th></th>\n",
       "    </tr>\n",
       "  </thead>\n",
       "  <tbody>\n",
       "    <tr>\n",
       "      <th>Agincourt North</th>\n",
       "      <td>33.00</td>\n",
       "    </tr>\n",
       "    <tr>\n",
       "      <th>Agincourt South-Malvern West</th>\n",
       "      <td>37.72</td>\n",
       "    </tr>\n",
       "    <tr>\n",
       "      <th>Alderwood</th>\n",
       "      <td>36.00</td>\n",
       "    </tr>\n",
       "    <tr>\n",
       "      <th>Annex</th>\n",
       "      <td>58.56</td>\n",
       "    </tr>\n",
       "    <tr>\n",
       "      <th>Banbury-Don Mills</th>\n",
       "      <td>46.55</td>\n",
       "    </tr>\n",
       "  </tbody>\n",
       "</table>\n",
       "</div>"
      ],
      "text/plain": [
       "                              price_per_accommodate\n",
       "neighbourhood_cleansed                             \n",
       "Agincourt North                               33.00\n",
       "Agincourt South-Malvern West                  37.72\n",
       "Alderwood                                     36.00\n",
       "Annex                                         58.56\n",
       "Banbury-Don Mills                             46.55"
      ]
     },
     "execution_count": 17,
     "metadata": {},
     "output_type": "execute_result"
    }
   ],
   "source": [
    "PR_price.head()"
   ]
  },
  {
   "cell_type": "code",
   "execution_count": 27,
   "metadata": {},
   "outputs": [],
   "source": [
    "df = pd.read_csv(filename, compression='gzip')\n",
    "df = df.loc[(df['room_type'] == 'Private room') | (df['room_type'] == 'Entire home/apt')]"
   ]
  },
  {
   "cell_type": "code",
   "execution_count": 41,
   "metadata": {},
   "outputs": [],
   "source": [
    "df_dic = {'2018 dec': df_count, '2019 dec': df_price}"
   ]
  },
  {
   "cell_type": "code",
   "execution_count": 42,
   "metadata": {},
   "outputs": [
    {
     "data": {
      "text/html": [
       "<div>\n",
       "<style scoped>\n",
       "    .dataframe tbody tr th:only-of-type {\n",
       "        vertical-align: middle;\n",
       "    }\n",
       "\n",
       "    .dataframe tbody tr th {\n",
       "        vertical-align: top;\n",
       "    }\n",
       "\n",
       "    .dataframe thead th {\n",
       "        text-align: right;\n",
       "    }\n",
       "</style>\n",
       "<table border=\"1\" class=\"dataframe\">\n",
       "  <thead>\n",
       "    <tr style=\"text-align: right;\">\n",
       "      <th></th>\n",
       "      <th>room_type</th>\n",
       "      <th>neighbourhood_cleansed</th>\n",
       "      <th>2020 may</th>\n",
       "      <th>2020 oct</th>\n",
       "      <th>2020 sep</th>\n",
       "    </tr>\n",
       "  </thead>\n",
       "  <tbody>\n",
       "    <tr>\n",
       "      <th>0</th>\n",
       "      <td>Entire home/apt</td>\n",
       "      <td>Agincourt North</td>\n",
       "      <td>6</td>\n",
       "      <td>7</td>\n",
       "      <td>7</td>\n",
       "    </tr>\n",
       "    <tr>\n",
       "      <th>1</th>\n",
       "      <td>Entire home/apt</td>\n",
       "      <td>Agincourt South-Malvern West</td>\n",
       "      <td>29</td>\n",
       "      <td>23</td>\n",
       "      <td>21</td>\n",
       "    </tr>\n",
       "    <tr>\n",
       "      <th>2</th>\n",
       "      <td>Entire home/apt</td>\n",
       "      <td>Alderwood</td>\n",
       "      <td>20</td>\n",
       "      <td>19</td>\n",
       "      <td>17</td>\n",
       "    </tr>\n",
       "    <tr>\n",
       "      <th>3</th>\n",
       "      <td>Entire home/apt</td>\n",
       "      <td>Annex</td>\n",
       "      <td>648</td>\n",
       "      <td>480</td>\n",
       "      <td>485</td>\n",
       "    </tr>\n",
       "    <tr>\n",
       "      <th>4</th>\n",
       "      <td>Entire home/apt</td>\n",
       "      <td>Banbury-Don Mills</td>\n",
       "      <td>32</td>\n",
       "      <td>23</td>\n",
       "      <td>25</td>\n",
       "    </tr>\n",
       "  </tbody>\n",
       "</table>\n",
       "</div>"
      ],
      "text/plain": [
       "         room_type        neighbourhood_cleansed  2020 may  2020 oct  2020 sep\n",
       "0  Entire home/apt               Agincourt North         6         7         7\n",
       "1  Entire home/apt  Agincourt South-Malvern West        29        23        21\n",
       "2  Entire home/apt                     Alderwood        20        19        17\n",
       "3  Entire home/apt                         Annex       648       480       485\n",
       "4  Entire home/apt             Banbury-Don Mills        32        23        25"
      ]
     },
     "execution_count": 42,
     "metadata": {},
     "output_type": "execute_result"
    }
   ],
   "source": [
    "df_dic['2018 dec'].head()"
   ]
  },
  {
   "cell_type": "code",
   "execution_count": 90,
   "metadata": {},
   "outputs": [
    {
     "data": {
      "text/plain": [
       "['2018 dec', '2019 dec']"
      ]
     },
     "execution_count": 90,
     "metadata": {},
     "output_type": "execute_result"
    }
   ],
   "source": [
    "keys = [key for key in df_dic.keys() if fnmatch.fnmatch(key, '*dec')]\n",
    "keys"
   ]
  },
  {
   "cell_type": "code",
   "execution_count": 43,
   "metadata": {},
   "outputs": [],
   "source": [
    "df_dic['revenue'] = df_revenue"
   ]
  },
  {
   "cell_type": "code",
   "execution_count": 45,
   "metadata": {},
   "outputs": [
    {
     "data": {
      "text/html": [
       "<div>\n",
       "<style scoped>\n",
       "    .dataframe tbody tr th:only-of-type {\n",
       "        vertical-align: middle;\n",
       "    }\n",
       "\n",
       "    .dataframe tbody tr th {\n",
       "        vertical-align: top;\n",
       "    }\n",
       "\n",
       "    .dataframe thead th {\n",
       "        text-align: right;\n",
       "    }\n",
       "</style>\n",
       "<table border=\"1\" class=\"dataframe\">\n",
       "  <thead>\n",
       "    <tr style=\"text-align: right;\">\n",
       "      <th></th>\n",
       "      <th>room_type</th>\n",
       "      <th>neighbourhood_cleansed</th>\n",
       "      <th>2020 may</th>\n",
       "      <th>2020 oct</th>\n",
       "      <th>2020 sep</th>\n",
       "    </tr>\n",
       "  </thead>\n",
       "  <tbody>\n",
       "    <tr>\n",
       "      <th>0</th>\n",
       "      <td>Entire home/apt</td>\n",
       "      <td>Agincourt North</td>\n",
       "      <td>4633.33</td>\n",
       "      <td>5356.57</td>\n",
       "      <td>6308.57</td>\n",
       "    </tr>\n",
       "    <tr>\n",
       "      <th>1</th>\n",
       "      <td>Entire home/apt</td>\n",
       "      <td>Agincourt South-Malvern West</td>\n",
       "      <td>1623.48</td>\n",
       "      <td>2366.35</td>\n",
       "      <td>2462.67</td>\n",
       "    </tr>\n",
       "    <tr>\n",
       "      <th>2</th>\n",
       "      <td>Entire home/apt</td>\n",
       "      <td>Alderwood</td>\n",
       "      <td>3123.30</td>\n",
       "      <td>3417.11</td>\n",
       "      <td>3278.29</td>\n",
       "    </tr>\n",
       "    <tr>\n",
       "      <th>3</th>\n",
       "      <td>Entire home/apt</td>\n",
       "      <td>Annex</td>\n",
       "      <td>4013.28</td>\n",
       "      <td>4570.36</td>\n",
       "      <td>4278.88</td>\n",
       "    </tr>\n",
       "    <tr>\n",
       "      <th>4</th>\n",
       "      <td>Entire home/apt</td>\n",
       "      <td>Banbury-Don Mills</td>\n",
       "      <td>2354.25</td>\n",
       "      <td>2457.91</td>\n",
       "      <td>2789.51</td>\n",
       "    </tr>\n",
       "  </tbody>\n",
       "</table>\n",
       "</div>"
      ],
      "text/plain": [
       "         room_type        neighbourhood_cleansed  2020 may  2020 oct  2020 sep\n",
       "0  Entire home/apt               Agincourt North   4633.33   5356.57   6308.57\n",
       "1  Entire home/apt  Agincourt South-Malvern West   1623.48   2366.35   2462.67\n",
       "2  Entire home/apt                     Alderwood   3123.30   3417.11   3278.29\n",
       "3  Entire home/apt                         Annex   4013.28   4570.36   4278.88\n",
       "4  Entire home/apt             Banbury-Don Mills   2354.25   2457.91   2789.51"
      ]
     },
     "execution_count": 45,
     "metadata": {},
     "output_type": "execute_result"
    }
   ],
   "source": [
    "df_dic['revenue'].head()"
   ]
  },
  {
   "cell_type": "code",
   "execution_count": 79,
   "metadata": {},
   "outputs": [],
   "source": [
    "dff_PR_revenue = df_revenue.loc[(df_revenue['neighbourhood_cleansed'] == 'Alderwood') & (df_revenue['room_type'] == 'Private room')]\n",
    "dff_EH_revenue = df_revenue.loc[(df_revenue['neighbourhood_cleansed'] == 'Alderwood') & (df_revenue['room_type'] == 'Entire home/apt')]"
   ]
  },
  {
   "cell_type": "code",
   "execution_count": 80,
   "metadata": {},
   "outputs": [],
   "source": [
    "dff_PR_revenue = dff_PR_revenue.transpose()[2:].reset_index()\n",
    "dff_PR_revenue.columns = ['time', 'revenue']\n",
    "dff_EH_revenue = dff_EH_revenue.transpose()[2:].reset_index()\n",
    "dff_EH_revenue.columns = ['time', 'revenue']"
   ]
  },
  {
   "cell_type": "code",
   "execution_count": 84,
   "metadata": {},
   "outputs": [
    {
     "data": {
      "text/html": [
       "<div>\n",
       "<style scoped>\n",
       "    .dataframe tbody tr th:only-of-type {\n",
       "        vertical-align: middle;\n",
       "    }\n",
       "\n",
       "    .dataframe tbody tr th {\n",
       "        vertical-align: top;\n",
       "    }\n",
       "\n",
       "    .dataframe thead th {\n",
       "        text-align: right;\n",
       "    }\n",
       "</style>\n",
       "<table border=\"1\" class=\"dataframe\">\n",
       "  <thead>\n",
       "    <tr style=\"text-align: right;\">\n",
       "      <th></th>\n",
       "      <th>time</th>\n",
       "      <th>revenue</th>\n",
       "    </tr>\n",
       "  </thead>\n",
       "  <tbody>\n",
       "    <tr>\n",
       "      <th>0</th>\n",
       "      <td>2018 nov</td>\n",
       "      <td>641.43</td>\n",
       "    </tr>\n",
       "    <tr>\n",
       "      <th>1</th>\n",
       "      <td>2018 dec</td>\n",
       "      <td>654.35</td>\n",
       "    </tr>\n",
       "    <tr>\n",
       "      <th>2</th>\n",
       "      <td>2019 jan</td>\n",
       "      <td>607.87</td>\n",
       "    </tr>\n",
       "    <tr>\n",
       "      <th>3</th>\n",
       "      <td>2019 feb</td>\n",
       "      <td>657.91</td>\n",
       "    </tr>\n",
       "    <tr>\n",
       "      <th>4</th>\n",
       "      <td>2019 mar</td>\n",
       "      <td>593.41</td>\n",
       "    </tr>\n",
       "  </tbody>\n",
       "</table>\n",
       "</div>"
      ],
      "text/plain": [
       "       time revenue\n",
       "0  2018 nov  641.43\n",
       "1  2018 dec  654.35\n",
       "2  2019 jan  607.87\n",
       "3  2019 feb  657.91\n",
       "4  2019 mar  593.41"
      ]
     },
     "execution_count": 84,
     "metadata": {},
     "output_type": "execute_result"
    }
   ],
   "source": [
    "dff_EH_revenue.head()"
   ]
  },
  {
   "cell_type": "code",
   "execution_count": 86,
   "metadata": {},
   "outputs": [
    {
     "data": {
      "application/vnd.plotly.v1+json": {
       "config": {
        "plotlyServerURL": "https://plot.ly"
       },
       "data": [
        {
         "mode": "lines+markers",
         "name": "Private Room",
         "type": "scatter",
         "x": [
          "2018 nov",
          "2018 dec",
          "2019 jan",
          "2019 feb",
          "2019 mar",
          "2019 apr",
          "2019 may",
          "2019 jun",
          "2019 jul",
          "2019 aug",
          "2019 sep",
          "2019 oct",
          "2019 nov",
          "2019 dec",
          "2020 jan",
          "2020 feb",
          "2020 mar",
          "2020 apr",
          "2020 may",
          "2020 jun",
          "2020 jul",
          "2020 aug",
          "2020 sep",
          "2020 oct"
         ],
         "y": [
          203.56,
          330.7,
          530.68,
          570.95,
          684.08,
          853.61,
          723.4,
          726.79,
          776.62,
          781.98,
          754.81,
          719.95,
          667.38,
          631.64,
          498.45,
          351.43,
          482.28,
          496.22,
          652.06,
          566.29,
          608,
          602.5,
          478,
          1747.61
         ]
        },
        {
         "mode": "lines+markers",
         "name": "Entire Home/Apt",
         "type": "scatter",
         "x": [
          "2018 nov",
          "2018 dec",
          "2019 jan",
          "2019 feb",
          "2019 mar",
          "2019 apr",
          "2019 may",
          "2019 jun",
          "2019 jul",
          "2019 aug",
          "2019 sep",
          "2019 oct",
          "2019 nov",
          "2019 dec",
          "2020 jan",
          "2020 feb",
          "2020 mar",
          "2020 apr",
          "2020 may",
          "2020 jun",
          "2020 jul",
          "2020 aug",
          "2020 sep",
          "2020 oct"
         ],
         "y": [
          641.43,
          654.35,
          607.87,
          657.91,
          593.41,
          800.14,
          639.86,
          656.85,
          828.02,
          843.55,
          775.68,
          645.09,
          733.71,
          725.49,
          616.59,
          669.93,
          725.11,
          663.88,
          759.24,
          872.13,
          939.26,
          907.77,
          875.08,
          884.76
         ]
        }
       ],
       "layout": {
        "autosize": true,
        "template": {
         "data": {
          "bar": [
           {
            "error_x": {
             "color": "#2a3f5f"
            },
            "error_y": {
             "color": "#2a3f5f"
            },
            "marker": {
             "line": {
              "color": "#E5ECF6",
              "width": 0.5
             }
            },
            "type": "bar"
           }
          ],
          "barpolar": [
           {
            "marker": {
             "line": {
              "color": "#E5ECF6",
              "width": 0.5
             }
            },
            "type": "barpolar"
           }
          ],
          "carpet": [
           {
            "aaxis": {
             "endlinecolor": "#2a3f5f",
             "gridcolor": "white",
             "linecolor": "white",
             "minorgridcolor": "white",
             "startlinecolor": "#2a3f5f"
            },
            "baxis": {
             "endlinecolor": "#2a3f5f",
             "gridcolor": "white",
             "linecolor": "white",
             "minorgridcolor": "white",
             "startlinecolor": "#2a3f5f"
            },
            "type": "carpet"
           }
          ],
          "choropleth": [
           {
            "colorbar": {
             "outlinewidth": 0,
             "ticks": ""
            },
            "type": "choropleth"
           }
          ],
          "contour": [
           {
            "colorbar": {
             "outlinewidth": 0,
             "ticks": ""
            },
            "colorscale": [
             [
              0,
              "#0d0887"
             ],
             [
              0.1111111111111111,
              "#46039f"
             ],
             [
              0.2222222222222222,
              "#7201a8"
             ],
             [
              0.3333333333333333,
              "#9c179e"
             ],
             [
              0.4444444444444444,
              "#bd3786"
             ],
             [
              0.5555555555555556,
              "#d8576b"
             ],
             [
              0.6666666666666666,
              "#ed7953"
             ],
             [
              0.7777777777777778,
              "#fb9f3a"
             ],
             [
              0.8888888888888888,
              "#fdca26"
             ],
             [
              1,
              "#f0f921"
             ]
            ],
            "type": "contour"
           }
          ],
          "contourcarpet": [
           {
            "colorbar": {
             "outlinewidth": 0,
             "ticks": ""
            },
            "type": "contourcarpet"
           }
          ],
          "heatmap": [
           {
            "colorbar": {
             "outlinewidth": 0,
             "ticks": ""
            },
            "colorscale": [
             [
              0,
              "#0d0887"
             ],
             [
              0.1111111111111111,
              "#46039f"
             ],
             [
              0.2222222222222222,
              "#7201a8"
             ],
             [
              0.3333333333333333,
              "#9c179e"
             ],
             [
              0.4444444444444444,
              "#bd3786"
             ],
             [
              0.5555555555555556,
              "#d8576b"
             ],
             [
              0.6666666666666666,
              "#ed7953"
             ],
             [
              0.7777777777777778,
              "#fb9f3a"
             ],
             [
              0.8888888888888888,
              "#fdca26"
             ],
             [
              1,
              "#f0f921"
             ]
            ],
            "type": "heatmap"
           }
          ],
          "heatmapgl": [
           {
            "colorbar": {
             "outlinewidth": 0,
             "ticks": ""
            },
            "colorscale": [
             [
              0,
              "#0d0887"
             ],
             [
              0.1111111111111111,
              "#46039f"
             ],
             [
              0.2222222222222222,
              "#7201a8"
             ],
             [
              0.3333333333333333,
              "#9c179e"
             ],
             [
              0.4444444444444444,
              "#bd3786"
             ],
             [
              0.5555555555555556,
              "#d8576b"
             ],
             [
              0.6666666666666666,
              "#ed7953"
             ],
             [
              0.7777777777777778,
              "#fb9f3a"
             ],
             [
              0.8888888888888888,
              "#fdca26"
             ],
             [
              1,
              "#f0f921"
             ]
            ],
            "type": "heatmapgl"
           }
          ],
          "histogram": [
           {
            "marker": {
             "colorbar": {
              "outlinewidth": 0,
              "ticks": ""
             }
            },
            "type": "histogram"
           }
          ],
          "histogram2d": [
           {
            "colorbar": {
             "outlinewidth": 0,
             "ticks": ""
            },
            "colorscale": [
             [
              0,
              "#0d0887"
             ],
             [
              0.1111111111111111,
              "#46039f"
             ],
             [
              0.2222222222222222,
              "#7201a8"
             ],
             [
              0.3333333333333333,
              "#9c179e"
             ],
             [
              0.4444444444444444,
              "#bd3786"
             ],
             [
              0.5555555555555556,
              "#d8576b"
             ],
             [
              0.6666666666666666,
              "#ed7953"
             ],
             [
              0.7777777777777778,
              "#fb9f3a"
             ],
             [
              0.8888888888888888,
              "#fdca26"
             ],
             [
              1,
              "#f0f921"
             ]
            ],
            "type": "histogram2d"
           }
          ],
          "histogram2dcontour": [
           {
            "colorbar": {
             "outlinewidth": 0,
             "ticks": ""
            },
            "colorscale": [
             [
              0,
              "#0d0887"
             ],
             [
              0.1111111111111111,
              "#46039f"
             ],
             [
              0.2222222222222222,
              "#7201a8"
             ],
             [
              0.3333333333333333,
              "#9c179e"
             ],
             [
              0.4444444444444444,
              "#bd3786"
             ],
             [
              0.5555555555555556,
              "#d8576b"
             ],
             [
              0.6666666666666666,
              "#ed7953"
             ],
             [
              0.7777777777777778,
              "#fb9f3a"
             ],
             [
              0.8888888888888888,
              "#fdca26"
             ],
             [
              1,
              "#f0f921"
             ]
            ],
            "type": "histogram2dcontour"
           }
          ],
          "mesh3d": [
           {
            "colorbar": {
             "outlinewidth": 0,
             "ticks": ""
            },
            "type": "mesh3d"
           }
          ],
          "parcoords": [
           {
            "line": {
             "colorbar": {
              "outlinewidth": 0,
              "ticks": ""
             }
            },
            "type": "parcoords"
           }
          ],
          "pie": [
           {
            "automargin": true,
            "type": "pie"
           }
          ],
          "scatter": [
           {
            "marker": {
             "colorbar": {
              "outlinewidth": 0,
              "ticks": ""
             }
            },
            "type": "scatter"
           }
          ],
          "scatter3d": [
           {
            "line": {
             "colorbar": {
              "outlinewidth": 0,
              "ticks": ""
             }
            },
            "marker": {
             "colorbar": {
              "outlinewidth": 0,
              "ticks": ""
             }
            },
            "type": "scatter3d"
           }
          ],
          "scattercarpet": [
           {
            "marker": {
             "colorbar": {
              "outlinewidth": 0,
              "ticks": ""
             }
            },
            "type": "scattercarpet"
           }
          ],
          "scattergeo": [
           {
            "marker": {
             "colorbar": {
              "outlinewidth": 0,
              "ticks": ""
             }
            },
            "type": "scattergeo"
           }
          ],
          "scattergl": [
           {
            "marker": {
             "colorbar": {
              "outlinewidth": 0,
              "ticks": ""
             }
            },
            "type": "scattergl"
           }
          ],
          "scattermapbox": [
           {
            "marker": {
             "colorbar": {
              "outlinewidth": 0,
              "ticks": ""
             }
            },
            "type": "scattermapbox"
           }
          ],
          "scatterpolar": [
           {
            "marker": {
             "colorbar": {
              "outlinewidth": 0,
              "ticks": ""
             }
            },
            "type": "scatterpolar"
           }
          ],
          "scatterpolargl": [
           {
            "marker": {
             "colorbar": {
              "outlinewidth": 0,
              "ticks": ""
             }
            },
            "type": "scatterpolargl"
           }
          ],
          "scatterternary": [
           {
            "marker": {
             "colorbar": {
              "outlinewidth": 0,
              "ticks": ""
             }
            },
            "type": "scatterternary"
           }
          ],
          "surface": [
           {
            "colorbar": {
             "outlinewidth": 0,
             "ticks": ""
            },
            "colorscale": [
             [
              0,
              "#0d0887"
             ],
             [
              0.1111111111111111,
              "#46039f"
             ],
             [
              0.2222222222222222,
              "#7201a8"
             ],
             [
              0.3333333333333333,
              "#9c179e"
             ],
             [
              0.4444444444444444,
              "#bd3786"
             ],
             [
              0.5555555555555556,
              "#d8576b"
             ],
             [
              0.6666666666666666,
              "#ed7953"
             ],
             [
              0.7777777777777778,
              "#fb9f3a"
             ],
             [
              0.8888888888888888,
              "#fdca26"
             ],
             [
              1,
              "#f0f921"
             ]
            ],
            "type": "surface"
           }
          ],
          "table": [
           {
            "cells": {
             "fill": {
              "color": "#EBF0F8"
             },
             "line": {
              "color": "white"
             }
            },
            "header": {
             "fill": {
              "color": "#C8D4E3"
             },
             "line": {
              "color": "white"
             }
            },
            "type": "table"
           }
          ]
         },
         "layout": {
          "annotationdefaults": {
           "arrowcolor": "#2a3f5f",
           "arrowhead": 0,
           "arrowwidth": 1
          },
          "coloraxis": {
           "colorbar": {
            "outlinewidth": 0,
            "ticks": ""
           }
          },
          "colorscale": {
           "diverging": [
            [
             0,
             "#8e0152"
            ],
            [
             0.1,
             "#c51b7d"
            ],
            [
             0.2,
             "#de77ae"
            ],
            [
             0.3,
             "#f1b6da"
            ],
            [
             0.4,
             "#fde0ef"
            ],
            [
             0.5,
             "#f7f7f7"
            ],
            [
             0.6,
             "#e6f5d0"
            ],
            [
             0.7,
             "#b8e186"
            ],
            [
             0.8,
             "#7fbc41"
            ],
            [
             0.9,
             "#4d9221"
            ],
            [
             1,
             "#276419"
            ]
           ],
           "sequential": [
            [
             0,
             "#0d0887"
            ],
            [
             0.1111111111111111,
             "#46039f"
            ],
            [
             0.2222222222222222,
             "#7201a8"
            ],
            [
             0.3333333333333333,
             "#9c179e"
            ],
            [
             0.4444444444444444,
             "#bd3786"
            ],
            [
             0.5555555555555556,
             "#d8576b"
            ],
            [
             0.6666666666666666,
             "#ed7953"
            ],
            [
             0.7777777777777778,
             "#fb9f3a"
            ],
            [
             0.8888888888888888,
             "#fdca26"
            ],
            [
             1,
             "#f0f921"
            ]
           ],
           "sequentialminus": [
            [
             0,
             "#0d0887"
            ],
            [
             0.1111111111111111,
             "#46039f"
            ],
            [
             0.2222222222222222,
             "#7201a8"
            ],
            [
             0.3333333333333333,
             "#9c179e"
            ],
            [
             0.4444444444444444,
             "#bd3786"
            ],
            [
             0.5555555555555556,
             "#d8576b"
            ],
            [
             0.6666666666666666,
             "#ed7953"
            ],
            [
             0.7777777777777778,
             "#fb9f3a"
            ],
            [
             0.8888888888888888,
             "#fdca26"
            ],
            [
             1,
             "#f0f921"
            ]
           ]
          },
          "colorway": [
           "#636efa",
           "#EF553B",
           "#00cc96",
           "#ab63fa",
           "#FFA15A",
           "#19d3f3",
           "#FF6692",
           "#B6E880",
           "#FF97FF",
           "#FECB52"
          ],
          "font": {
           "color": "#2a3f5f"
          },
          "geo": {
           "bgcolor": "white",
           "lakecolor": "white",
           "landcolor": "#E5ECF6",
           "showlakes": true,
           "showland": true,
           "subunitcolor": "white"
          },
          "hoverlabel": {
           "align": "left"
          },
          "hovermode": "closest",
          "mapbox": {
           "style": "light"
          },
          "paper_bgcolor": "white",
          "plot_bgcolor": "#E5ECF6",
          "polar": {
           "angularaxis": {
            "gridcolor": "white",
            "linecolor": "white",
            "ticks": ""
           },
           "bgcolor": "#E5ECF6",
           "radialaxis": {
            "gridcolor": "white",
            "linecolor": "white",
            "ticks": ""
           }
          },
          "scene": {
           "xaxis": {
            "backgroundcolor": "#E5ECF6",
            "gridcolor": "white",
            "gridwidth": 2,
            "linecolor": "white",
            "showbackground": true,
            "ticks": "",
            "zerolinecolor": "white"
           },
           "yaxis": {
            "backgroundcolor": "#E5ECF6",
            "gridcolor": "white",
            "gridwidth": 2,
            "linecolor": "white",
            "showbackground": true,
            "ticks": "",
            "zerolinecolor": "white"
           },
           "zaxis": {
            "backgroundcolor": "#E5ECF6",
            "gridcolor": "white",
            "gridwidth": 2,
            "linecolor": "white",
            "showbackground": true,
            "ticks": "",
            "zerolinecolor": "white"
           }
          },
          "shapedefaults": {
           "line": {
            "color": "#2a3f5f"
           }
          },
          "ternary": {
           "aaxis": {
            "gridcolor": "white",
            "linecolor": "white",
            "ticks": ""
           },
           "baxis": {
            "gridcolor": "white",
            "linecolor": "white",
            "ticks": ""
           },
           "bgcolor": "#E5ECF6",
           "caxis": {
            "gridcolor": "white",
            "linecolor": "white",
            "ticks": ""
           }
          },
          "title": {
           "x": 0.05
          },
          "xaxis": {
           "automargin": true,
           "gridcolor": "white",
           "linecolor": "white",
           "ticks": "",
           "title": {
            "standoff": 15
           },
           "zerolinecolor": "white",
           "zerolinewidth": 2
          },
          "yaxis": {
           "automargin": true,
           "gridcolor": "white",
           "linecolor": "white",
           "ticks": "",
           "title": {
            "standoff": 15
           },
           "zerolinecolor": "white",
           "zerolinewidth": 2
          }
         }
        },
        "xaxis": {
         "autorange": true,
         "range": [
          -1.3696777905638664,
          24.369677790563866
         ],
         "type": "category"
        },
        "yaxis": {
         "autorange": true,
         "range": [
          94.46951086956523,
          1856.7004891304346
         ],
         "type": "linear"
        }
       }
      },
      "image/png": "[encoded data removed]",
      "text/html": [
       "<div>                            <div id=\"f218c3d1-e9c8-4cd5-8af1-e881fec12130\" class=\"plotly-graph-div\" style=\"height:525px; width:100%;\"></div>            <script type=\"text/javascript\">                require([\"plotly\"], function(Plotly) {                    window.PLOTLYENV=window.PLOTLYENV || {};                                    if (document.getElementById(\"f218c3d1-e9c8-4cd5-8af1-e881fec12130\")) {                    Plotly.newPlot(                        \"f218c3d1-e9c8-4cd5-8af1-e881fec12130\",                        [{\"mode\": \"lines+markers\", \"name\": \"Private Room\", \"type\": \"scatter\", \"x\": [\"2018 nov\", \"2018 dec\", \"2019 jan\", \"2019 feb\", \"2019 mar\", \"2019 apr\", \"2019 may\", \"2019 jun\", \"2019 jul\", \"2019 aug\", \"2019 sep\", \"2019 oct\", \"2019 nov\", \"2019 dec\", \"2020 jan\", \"2020 feb\", \"2020 mar\", \"2020 apr\", \"2020 may\", \"2020 jun\", \"2020 jul\", \"2020 aug\", \"2020 sep\", \"2020 oct\"], \"y\": [203.56, 330.7, 530.68, 570.95, 684.08, 853.61, 723.4, 726.79, 776.62, 781.98, 754.81, 719.95, 667.38, 631.64, 498.45, 351.43, 482.28, 496.22, 652.06, 566.29, 608.0, 602.5, 478.0, 1747.61]}, {\"mode\": \"lines+markers\", \"name\": \"Entire Home/Apt\", \"type\": \"scatter\", \"x\": [\"2018 nov\", \"2018 dec\", \"2019 jan\", \"2019 feb\", \"2019 mar\", \"2019 apr\", \"2019 may\", \"2019 jun\", \"2019 jul\", \"2019 aug\", \"2019 sep\", \"2019 oct\", \"2019 nov\", \"2019 dec\", \"2020 jan\", \"2020 feb\", \"2020 mar\", \"2020 apr\", \"2020 may\", \"2020 jun\", \"2020 jul\", \"2020 aug\", \"2020 sep\", \"2020 oct\"], \"y\": [641.43, 654.35, 607.87, 657.91, 593.41, 800.14, 639.86, 656.85, 828.02, 843.55, 775.68, 645.09, 733.71, 725.49, 616.59, 669.93, 725.11, 663.88, 759.24, 872.13, 939.26, 907.77, 875.08, 884.76]}],                        {\"template\": {\"data\": {\"bar\": [{\"error_x\": {\"color\": \"#2a3f5f\"}, \"error_y\": {\"color\": \"#2a3f5f\"}, \"marker\": {\"line\": {\"color\": \"#E5ECF6\", \"width\": 0.5}}, \"type\": \"bar\"}], \"barpolar\": [{\"marker\": {\"line\": {\"color\": \"#E5ECF6\", \"width\": 0.5}}, \"type\": \"barpolar\"}], \"carpet\": [{\"aaxis\": {\"endlinecolor\": \"#2a3f5f\", \"gridcolor\": \"white\", \"linecolor\": \"white\", \"minorgridcolor\": \"white\", \"startlinecolor\": \"#2a3f5f\"}, \"baxis\": {\"endlinecolor\": \"#2a3f5f\", \"gridcolor\": \"white\", \"linecolor\": \"white\", \"minorgridcolor\": \"white\", \"startlinecolor\": \"#2a3f5f\"}, \"type\": \"carpet\"}], \"choropleth\": [{\"colorbar\": {\"outlinewidth\": 0, \"ticks\": \"\"}, \"type\": \"choropleth\"}], \"contour\": [{\"colorbar\": {\"outlinewidth\": 0, \"ticks\": \"\"}, \"colorscale\": [[0.0, \"#0d0887\"], [0.1111111111111111, \"#46039f\"], [0.2222222222222222, \"#7201a8\"], [0.3333333333333333, \"#9c179e\"], [0.4444444444444444, \"#bd3786\"], [0.5555555555555556, \"#d8576b\"], [0.6666666666666666, \"#ed7953\"], [0.7777777777777778, \"#fb9f3a\"], [0.8888888888888888, \"#fdca26\"], [1.0, \"#f0f921\"]], \"type\": \"contour\"}], \"contourcarpet\": [{\"colorbar\": {\"outlinewidth\": 0, \"ticks\": \"\"}, \"type\": \"contourcarpet\"}], \"heatmap\": [{\"colorbar\": {\"outlinewidth\": 0, \"ticks\": \"\"}, \"colorscale\": [[0.0, \"#0d0887\"], [0.1111111111111111, \"#46039f\"], [0.2222222222222222, \"#7201a8\"], [0.3333333333333333, \"#9c179e\"], [0.4444444444444444, \"#bd3786\"], [0.5555555555555556, \"#d8576b\"], [0.6666666666666666, \"#ed7953\"], [0.7777777777777778, \"#fb9f3a\"], [0.8888888888888888, \"#fdca26\"], [1.0, \"#f0f921\"]], \"type\": \"heatmap\"}], \"heatmapgl\": [{\"colorbar\": {\"outlinewidth\": 0, \"ticks\": \"\"}, \"colorscale\": [[0.0, \"#0d0887\"], [0.1111111111111111, \"#46039f\"], [0.2222222222222222, \"#7201a8\"], [0.3333333333333333, \"#9c179e\"], [0.4444444444444444, \"#bd3786\"], [0.5555555555555556, \"#d8576b\"], [0.6666666666666666, \"#ed7953\"], [0.7777777777777778, \"#fb9f3a\"], [0.8888888888888888, \"#fdca26\"], [1.0, \"#f0f921\"]], \"type\": \"heatmapgl\"}], \"histogram\": [{\"marker\": {\"colorbar\": {\"outlinewidth\": 0, \"ticks\": \"\"}}, \"type\": \"histogram\"}], \"histogram2d\": [{\"colorbar\": {\"outlinewidth\": 0, \"ticks\": \"\"}, \"colorscale\": [[0.0, \"#0d0887\"], [0.1111111111111111, \"#46039f\"], [0.2222222222222222, \"#7201a8\"], [0.3333333333333333, \"#9c179e\"], [0.4444444444444444, \"#bd3786\"], [0.5555555555555556, \"#d8576b\"], [0.6666666666666666, \"#ed7953\"], [0.7777777777777778, \"#fb9f3a\"], [0.8888888888888888, \"#fdca26\"], [1.0, \"#f0f921\"]], \"type\": \"histogram2d\"}], \"histogram2dcontour\": [{\"colorbar\": {\"outlinewidth\": 0, \"ticks\": \"\"}, \"colorscale\": [[0.0, \"#0d0887\"], [0.1111111111111111, \"#46039f\"], [0.2222222222222222, \"#7201a8\"], [0.3333333333333333, \"#9c179e\"], [0.4444444444444444, \"#bd3786\"], [0.5555555555555556, \"#d8576b\"], [0.6666666666666666, \"#ed7953\"], [0.7777777777777778, \"#fb9f3a\"], [0.8888888888888888, \"#fdca26\"], [1.0, \"#f0f921\"]], \"type\": \"histogram2dcontour\"}], \"mesh3d\": [{\"colorbar\": {\"outlinewidth\": 0, \"ticks\": \"\"}, \"type\": \"mesh3d\"}], \"parcoords\": [{\"line\": {\"colorbar\": {\"outlinewidth\": 0, \"ticks\": \"\"}}, \"type\": \"parcoords\"}], \"pie\": [{\"automargin\": true, \"type\": \"pie\"}], \"scatter\": [{\"marker\": {\"colorbar\": {\"outlinewidth\": 0, \"ticks\": \"\"}}, \"type\": \"scatter\"}], \"scatter3d\": [{\"line\": {\"colorbar\": {\"outlinewidth\": 0, \"ticks\": \"\"}}, \"marker\": {\"colorbar\": {\"outlinewidth\": 0, \"ticks\": \"\"}}, \"type\": \"scatter3d\"}], \"scattercarpet\": [{\"marker\": {\"colorbar\": {\"outlinewidth\": 0, \"ticks\": \"\"}}, \"type\": \"scattercarpet\"}], \"scattergeo\": [{\"marker\": {\"colorbar\": {\"outlinewidth\": 0, \"ticks\": \"\"}}, \"type\": \"scattergeo\"}], \"scattergl\": [{\"marker\": {\"colorbar\": {\"outlinewidth\": 0, \"ticks\": \"\"}}, \"type\": \"scattergl\"}], \"scattermapbox\": [{\"marker\": {\"colorbar\": {\"outlinewidth\": 0, \"ticks\": \"\"}}, \"type\": \"scattermapbox\"}], \"scatterpolar\": [{\"marker\": {\"colorbar\": {\"outlinewidth\": 0, \"ticks\": \"\"}}, \"type\": \"scatterpolar\"}], \"scatterpolargl\": [{\"marker\": {\"colorbar\": {\"outlinewidth\": 0, \"ticks\": \"\"}}, \"type\": \"scatterpolargl\"}], \"scatterternary\": [{\"marker\": {\"colorbar\": {\"outlinewidth\": 0, \"ticks\": \"\"}}, \"type\": \"scatterternary\"}], \"surface\": [{\"colorbar\": {\"outlinewidth\": 0, \"ticks\": \"\"}, \"colorscale\": [[0.0, \"#0d0887\"], [0.1111111111111111, \"#46039f\"], [0.2222222222222222, \"#7201a8\"], [0.3333333333333333, \"#9c179e\"], [0.4444444444444444, \"#bd3786\"], [0.5555555555555556, \"#d8576b\"], [0.6666666666666666, \"#ed7953\"], [0.7777777777777778, \"#fb9f3a\"], [0.8888888888888888, \"#fdca26\"], [1.0, \"#f0f921\"]], \"type\": \"surface\"}], \"table\": [{\"cells\": {\"fill\": {\"color\": \"#EBF0F8\"}, \"line\": {\"color\": \"white\"}}, \"header\": {\"fill\": {\"color\": \"#C8D4E3\"}, \"line\": {\"color\": \"white\"}}, \"type\": \"table\"}]}, \"layout\": {\"annotationdefaults\": {\"arrowcolor\": \"#2a3f5f\", \"arrowhead\": 0, \"arrowwidth\": 1}, \"coloraxis\": {\"colorbar\": {\"outlinewidth\": 0, \"ticks\": \"\"}}, \"colorscale\": {\"diverging\": [[0, \"#8e0152\"], [0.1, \"#c51b7d\"], [0.2, \"#de77ae\"], [0.3, \"#f1b6da\"], [0.4, \"#fde0ef\"], [0.5, \"#f7f7f7\"], [0.6, \"#e6f5d0\"], [0.7, \"#b8e186\"], [0.8, \"#7fbc41\"], [0.9, \"#4d9221\"], [1, \"#276419\"]], \"sequential\": [[0.0, \"#0d0887\"], [0.1111111111111111, \"#46039f\"], [0.2222222222222222, \"#7201a8\"], [0.3333333333333333, \"#9c179e\"], [0.4444444444444444, \"#bd3786\"], [0.5555555555555556, \"#d8576b\"], [0.6666666666666666, \"#ed7953\"], [0.7777777777777778, \"#fb9f3a\"], [0.8888888888888888, \"#fdca26\"], [1.0, \"#f0f921\"]], \"sequentialminus\": [[0.0, \"#0d0887\"], [0.1111111111111111, \"#46039f\"], [0.2222222222222222, \"#7201a8\"], [0.3333333333333333, \"#9c179e\"], [0.4444444444444444, \"#bd3786\"], [0.5555555555555556, \"#d8576b\"], [0.6666666666666666, \"#ed7953\"], [0.7777777777777778, \"#fb9f3a\"], [0.8888888888888888, \"#fdca26\"], [1.0, \"#f0f921\"]]}, \"colorway\": [\"#636efa\", \"#EF553B\", \"#00cc96\", \"#ab63fa\", \"#FFA15A\", \"#19d3f3\", \"#FF6692\", \"#B6E880\", \"#FF97FF\", \"#FECB52\"], \"font\": {\"color\": \"#2a3f5f\"}, \"geo\": {\"bgcolor\": \"white\", \"lakecolor\": \"white\", \"landcolor\": \"#E5ECF6\", \"showlakes\": true, \"showland\": true, \"subunitcolor\": \"white\"}, \"hoverlabel\": {\"align\": \"left\"}, \"hovermode\": \"closest\", \"mapbox\": {\"style\": \"light\"}, \"paper_bgcolor\": \"white\", \"plot_bgcolor\": \"#E5ECF6\", \"polar\": {\"angularaxis\": {\"gridcolor\": \"white\", \"linecolor\": \"white\", \"ticks\": \"\"}, \"bgcolor\": \"#E5ECF6\", \"radialaxis\": {\"gridcolor\": \"white\", \"linecolor\": \"white\", \"ticks\": \"\"}}, \"scene\": {\"xaxis\": {\"backgroundcolor\": \"#E5ECF6\", \"gridcolor\": \"white\", \"gridwidth\": 2, \"linecolor\": \"white\", \"showbackground\": true, \"ticks\": \"\", \"zerolinecolor\": \"white\"}, \"yaxis\": {\"backgroundcolor\": \"#E5ECF6\", \"gridcolor\": \"white\", \"gridwidth\": 2, \"linecolor\": \"white\", \"showbackground\": true, \"ticks\": \"\", \"zerolinecolor\": \"white\"}, \"zaxis\": {\"backgroundcolor\": \"#E5ECF6\", \"gridcolor\": \"white\", \"gridwidth\": 2, \"linecolor\": \"white\", \"showbackground\": true, \"ticks\": \"\", \"zerolinecolor\": \"white\"}}, \"shapedefaults\": {\"line\": {\"color\": \"#2a3f5f\"}}, \"ternary\": {\"aaxis\": {\"gridcolor\": \"white\", \"linecolor\": \"white\", \"ticks\": \"\"}, \"baxis\": {\"gridcolor\": \"white\", \"linecolor\": \"white\", \"ticks\": \"\"}, \"bgcolor\": \"#E5ECF6\", \"caxis\": {\"gridcolor\": \"white\", \"linecolor\": \"white\", \"ticks\": \"\"}}, \"title\": {\"x\": 0.05}, \"xaxis\": {\"automargin\": true, \"gridcolor\": \"white\", \"linecolor\": \"white\", \"ticks\": \"\", \"title\": {\"standoff\": 15}, \"zerolinecolor\": \"white\", \"zerolinewidth\": 2}, \"yaxis\": {\"automargin\": true, \"gridcolor\": \"white\", \"linecolor\": \"white\", \"ticks\": \"\", \"title\": {\"standoff\": 15}, \"zerolinecolor\": \"white\", \"zerolinewidth\": 2}}}},                        {\"responsive\": true}                    ).then(function(){\n",
       "                            \n",
       "var gd = document.getElementById('f218c3d1-e9c8-4cd5-8af1-e881fec12130');\n",
       "var x = new MutationObserver(function (mutations, observer) {{\n",
       "        var display = window.getComputedStyle(gd).display;\n",
       "        if (!display || display === 'none') {{\n",
       "            console.log([gd, 'removed!']);\n",
       "            Plotly.purge(gd);\n",
       "            observer.disconnect();\n",
       "        }}\n",
       "}});\n",
       "\n",
       "// Listen for the removal of the full notebook cells\n",
       "var notebookContainer = gd.closest('#notebook-container');\n",
       "if (notebookContainer) {{\n",
       "    x.observe(notebookContainer, {childList: true});\n",
       "}}\n",
       "\n",
       "// Listen for the clearing of the current output cell\n",
       "var outputEl = gd.closest('.output');\n",
       "if (outputEl) {{\n",
       "    x.observe(outputEl, {childList: true});\n",
       "}}\n",
       "\n",
       "                        })                };                });            </script>        </div>"
      ]
     },
     "metadata": {},
     "output_type": "display_data"
    }
   ],
   "source": [
    "import plotly.graph_objects as go\n",
    "fig = go.Figure(go.Scatter(x=dff_PR_revenue['time'], y=dff_PR_revenue['revenue'],\n",
    "                           mode='lines+markers', name='Private Room'))\n",
    "fig.add_trace(go.Scatter(x=dff_EH_revenue['time'], y=dff_EH_revenue['revenue'],\n",
    "                           mode='lines+markers', name='Entire Home/Apt'))\n",
    "fig.show()"
   ]
  },
  {
   "cell_type": "code",
   "execution_count": 26,
   "metadata": {},
   "outputs": [],
   "source": [
    "x = format(1234, '0,.2f')"
   ]
  },
  {
   "cell_type": "code",
   "execution_count": 56,
   "metadata": {},
   "outputs": [],
   "source": [
    "df_2019_ag = pd.read_csv('data_cleaned\\listings 2020 Oct.csv.gz', compression = 'gzip')"
   ]
  },
  {
   "cell_type": "code",
   "execution_count": 60,
   "metadata": {},
   "outputs": [],
   "source": [
    "df_2019_ag = df_2019_ag.loc[df_2019_ag['neighbourhood_cleansed'] == 'Waterfront Communities-The Island'].sort_values(by = ['occupancy'], ascending = False)"
   ]
  },
  {
   "cell_type": "code",
   "execution_count": 61,
   "metadata": {},
   "outputs": [
    {
     "data": {
      "text/html": [
       "<div>\n",
       "<style scoped>\n",
       "    .dataframe tbody tr th:only-of-type {\n",
       "        vertical-align: middle;\n",
       "    }\n",
       "\n",
       "    .dataframe tbody tr th {\n",
       "        vertical-align: top;\n",
       "    }\n",
       "\n",
       "    .dataframe thead th {\n",
       "        text-align: right;\n",
       "    }\n",
       "</style>\n",
       "<table border=\"1\" class=\"dataframe\">\n",
       "  <thead>\n",
       "    <tr style=\"text-align: right;\">\n",
       "      <th></th>\n",
       "      <th>id</th>\n",
       "      <th>neighbourhood_cleansed</th>\n",
       "      <th>longitude</th>\n",
       "      <th>latitude</th>\n",
       "      <th>room_type</th>\n",
       "      <th>price_per_accommodate</th>\n",
       "      <th>occupancy</th>\n",
       "      <th>revenue</th>\n",
       "    </tr>\n",
       "  </thead>\n",
       "  <tbody>\n",
       "    <tr>\n",
       "      <th>14681</th>\n",
       "      <td>40279984</td>\n",
       "      <td>Waterfront Communities-The Island</td>\n",
       "      <td>-79.39757</td>\n",
       "      <td>43.63961</td>\n",
       "      <td>Entire home/apt</td>\n",
       "      <td>250.00</td>\n",
       "      <td>30</td>\n",
       "      <td>7500.0</td>\n",
       "    </tr>\n",
       "    <tr>\n",
       "      <th>13446</th>\n",
       "      <td>38076531</td>\n",
       "      <td>Waterfront Communities-The Island</td>\n",
       "      <td>-79.38304</td>\n",
       "      <td>43.64223</td>\n",
       "      <td>Entire home/apt</td>\n",
       "      <td>39.50</td>\n",
       "      <td>30</td>\n",
       "      <td>1185.0</td>\n",
       "    </tr>\n",
       "    <tr>\n",
       "      <th>14438</th>\n",
       "      <td>39915278</td>\n",
       "      <td>Waterfront Communities-The Island</td>\n",
       "      <td>-79.38113</td>\n",
       "      <td>43.64310</td>\n",
       "      <td>Private room</td>\n",
       "      <td>39.50</td>\n",
       "      <td>30</td>\n",
       "      <td>1185.0</td>\n",
       "    </tr>\n",
       "    <tr>\n",
       "      <th>17843</th>\n",
       "      <td>45501540</td>\n",
       "      <td>Waterfront Communities-The Island</td>\n",
       "      <td>-79.38874</td>\n",
       "      <td>43.64440</td>\n",
       "      <td>Entire home/apt</td>\n",
       "      <td>39.50</td>\n",
       "      <td>30</td>\n",
       "      <td>1185.0</td>\n",
       "    </tr>\n",
       "    <tr>\n",
       "      <th>6858</th>\n",
       "      <td>21681649</td>\n",
       "      <td>Waterfront Communities-The Island</td>\n",
       "      <td>-79.39847</td>\n",
       "      <td>43.63788</td>\n",
       "      <td>Entire home/apt</td>\n",
       "      <td>39.67</td>\n",
       "      <td>30</td>\n",
       "      <td>1190.1</td>\n",
       "    </tr>\n",
       "  </tbody>\n",
       "</table>\n",
       "</div>"
      ],
      "text/plain": [
       "             id             neighbourhood_cleansed  longitude  latitude  \\\n",
       "14681  40279984  Waterfront Communities-The Island  -79.39757  43.63961   \n",
       "13446  38076531  Waterfront Communities-The Island  -79.38304  43.64223   \n",
       "14438  39915278  Waterfront Communities-The Island  -79.38113  43.64310   \n",
       "17843  45501540  Waterfront Communities-The Island  -79.38874  43.64440   \n",
       "6858   21681649  Waterfront Communities-The Island  -79.39847  43.63788   \n",
       "\n",
       "             room_type  price_per_accommodate  occupancy  revenue  \n",
       "14681  Entire home/apt                 250.00         30   7500.0  \n",
       "13446  Entire home/apt                  39.50         30   1185.0  \n",
       "14438     Private room                  39.50         30   1185.0  \n",
       "17843  Entire home/apt                  39.50         30   1185.0  \n",
       "6858   Entire home/apt                  39.67         30   1190.1  "
      ]
     },
     "execution_count": 61,
     "metadata": {},
     "output_type": "execute_result"
    }
   ],
   "source": [
    "df_2019_ag.head()"
   ]
  },
  {
   "cell_type": "code",
   "execution_count": 62,
   "metadata": {},
   "outputs": [
    {
     "data": {
      "text/html": [
       "<div>\n",
       "<style scoped>\n",
       "    .dataframe tbody tr th:only-of-type {\n",
       "        vertical-align: middle;\n",
       "    }\n",
       "\n",
       "    .dataframe tbody tr th {\n",
       "        vertical-align: top;\n",
       "    }\n",
       "\n",
       "    .dataframe thead th {\n",
       "        text-align: right;\n",
       "    }\n",
       "</style>\n",
       "<table border=\"1\" class=\"dataframe\">\n",
       "  <thead>\n",
       "    <tr style=\"text-align: right;\">\n",
       "      <th></th>\n",
       "      <th>id</th>\n",
       "      <th>listing_url</th>\n",
       "      <th>scrape_id</th>\n",
       "      <th>last_scraped</th>\n",
       "      <th>name</th>\n",
       "      <th>description</th>\n",
       "      <th>neighborhood_overview</th>\n",
       "      <th>picture_url</th>\n",
       "      <th>host_id</th>\n",
       "      <th>host_url</th>\n",
       "      <th>host_name</th>\n",
       "      <th>host_since</th>\n",
       "      <th>host_location</th>\n",
       "      <th>host_about</th>\n",
       "      <th>host_response_time</th>\n",
       "      <th>host_response_rate</th>\n",
       "      <th>host_acceptance_rate</th>\n",
       "      <th>host_is_superhost</th>\n",
       "      <th>host_thumbnail_url</th>\n",
       "      <th>host_picture_url</th>\n",
       "      <th>host_neighbourhood</th>\n",
       "      <th>host_listings_count</th>\n",
       "      <th>host_total_listings_count</th>\n",
       "      <th>host_verifications</th>\n",
       "      <th>host_has_profile_pic</th>\n",
       "      <th>host_identity_verified</th>\n",
       "      <th>neighbourhood</th>\n",
       "      <th>neighbourhood_cleansed</th>\n",
       "      <th>neighbourhood_group_cleansed</th>\n",
       "      <th>latitude</th>\n",
       "      <th>longitude</th>\n",
       "      <th>property_type</th>\n",
       "      <th>room_type</th>\n",
       "      <th>accommodates</th>\n",
       "      <th>bathrooms</th>\n",
       "      <th>bathrooms_text</th>\n",
       "      <th>bedrooms</th>\n",
       "      <th>beds</th>\n",
       "      <th>amenities</th>\n",
       "      <th>price</th>\n",
       "      <th>minimum_nights</th>\n",
       "      <th>maximum_nights</th>\n",
       "      <th>minimum_minimum_nights</th>\n",
       "      <th>maximum_minimum_nights</th>\n",
       "      <th>minimum_maximum_nights</th>\n",
       "      <th>maximum_maximum_nights</th>\n",
       "      <th>minimum_nights_avg_ntm</th>\n",
       "      <th>maximum_nights_avg_ntm</th>\n",
       "      <th>calendar_updated</th>\n",
       "      <th>has_availability</th>\n",
       "      <th>availability_30</th>\n",
       "      <th>availability_60</th>\n",
       "      <th>availability_90</th>\n",
       "      <th>availability_365</th>\n",
       "      <th>calendar_last_scraped</th>\n",
       "      <th>number_of_reviews</th>\n",
       "      <th>number_of_reviews_ltm</th>\n",
       "      <th>number_of_reviews_l30d</th>\n",
       "      <th>first_review</th>\n",
       "      <th>last_review</th>\n",
       "      <th>review_scores_rating</th>\n",
       "      <th>review_scores_accuracy</th>\n",
       "      <th>review_scores_cleanliness</th>\n",
       "      <th>review_scores_checkin</th>\n",
       "      <th>review_scores_communication</th>\n",
       "      <th>review_scores_location</th>\n",
       "      <th>review_scores_value</th>\n",
       "      <th>license</th>\n",
       "      <th>instant_bookable</th>\n",
       "      <th>calculated_host_listings_count</th>\n",
       "      <th>calculated_host_listings_count_entire_homes</th>\n",
       "      <th>calculated_host_listings_count_private_rooms</th>\n",
       "      <th>calculated_host_listings_count_shared_rooms</th>\n",
       "      <th>reviews_per_month</th>\n",
       "    </tr>\n",
       "  </thead>\n",
       "  <tbody>\n",
       "    <tr>\n",
       "      <th>13798</th>\n",
       "      <td>38076531</td>\n",
       "      <td>https://www.airbnb.com/rooms/38076531</td>\n",
       "      <td>20201009050515</td>\n",
       "      <td>2020-10-24</td>\n",
       "      <td>50TH+ FLOOR NEXT TO UNION STATION @PRIME LOCATION</td>\n",
       "      <td>Welcome to Toronto! Experience the best of Tor...</td>\n",
       "      <td>5mins from union station and metro Toronto con...</td>\n",
       "      <td>https://a0.muscache.com/pictures/f690ce2c-836c...</td>\n",
       "      <td>107497569</td>\n",
       "      <td>https://www.airbnb.com/users/show/107497569</td>\n",
       "      <td>Kevin</td>\n",
       "      <td>2016-12-16</td>\n",
       "      <td>Toronto, Ontario, Canada</td>\n",
       "      <td>Hello everyone, my name is Kevin. I’m new doin...</td>\n",
       "      <td>within an hour</td>\n",
       "      <td>89%</td>\n",
       "      <td>98%</td>\n",
       "      <td>f</td>\n",
       "      <td>https://a0.muscache.com/im/pictures/user/af8fc...</td>\n",
       "      <td>https://a0.muscache.com/im/pictures/user/af8fc...</td>\n",
       "      <td>Entertainment District</td>\n",
       "      <td>3.0</td>\n",
       "      <td>3.0</td>\n",
       "      <td>['email', 'phone', 'offline_government_id', 's...</td>\n",
       "      <td>t</td>\n",
       "      <td>t</td>\n",
       "      <td>Toronto, Ontario, Canada</td>\n",
       "      <td>Waterfront Communities-The Island</td>\n",
       "      <td>NaN</td>\n",
       "      <td>43.64223</td>\n",
       "      <td>-79.38304</td>\n",
       "      <td>Entire condominium</td>\n",
       "      <td>Entire home/apt</td>\n",
       "      <td>4</td>\n",
       "      <td>NaN</td>\n",
       "      <td>1 bath</td>\n",
       "      <td>1.0</td>\n",
       "      <td>2.0</td>\n",
       "      <td>[\"Hangers\", \"Coffee maker\", \"Carbon monoxide a...</td>\n",
       "      <td>$158.00</td>\n",
       "      <td>1</td>\n",
       "      <td>1125</td>\n",
       "      <td>1</td>\n",
       "      <td>2</td>\n",
       "      <td>1125</td>\n",
       "      <td>1125</td>\n",
       "      <td>1.0</td>\n",
       "      <td>1125.0</td>\n",
       "      <td>NaN</td>\n",
       "      <td>t</td>\n",
       "      <td>0</td>\n",
       "      <td>0</td>\n",
       "      <td>0</td>\n",
       "      <td>0</td>\n",
       "      <td>2020-10-24</td>\n",
       "      <td>35</td>\n",
       "      <td>23</td>\n",
       "      <td>0</td>\n",
       "      <td>2019-09-08</td>\n",
       "      <td>2020-07-26</td>\n",
       "      <td>91.0</td>\n",
       "      <td>9.0</td>\n",
       "      <td>9.0</td>\n",
       "      <td>9.0</td>\n",
       "      <td>9.0</td>\n",
       "      <td>10.0</td>\n",
       "      <td>9.0</td>\n",
       "      <td>NaN</td>\n",
       "      <td>t</td>\n",
       "      <td>2</td>\n",
       "      <td>2</td>\n",
       "      <td>0</td>\n",
       "      <td>0</td>\n",
       "      <td>2.54</td>\n",
       "    </tr>\n",
       "  </tbody>\n",
       "</table>\n",
       "</div>"
      ],
      "text/plain": [
       "             id                            listing_url       scrape_id  \\\n",
       "13798  38076531  https://www.airbnb.com/rooms/38076531  20201009050515   \n",
       "\n",
       "      last_scraped                                               name  \\\n",
       "13798   2020-10-24  50TH+ FLOOR NEXT TO UNION STATION @PRIME LOCATION   \n",
       "\n",
       "                                             description  \\\n",
       "13798  Welcome to Toronto! Experience the best of Tor...   \n",
       "\n",
       "                                   neighborhood_overview  \\\n",
       "13798  5mins from union station and metro Toronto con...   \n",
       "\n",
       "                                             picture_url    host_id  \\\n",
       "13798  https://a0.muscache.com/pictures/f690ce2c-836c...  107497569   \n",
       "\n",
       "                                          host_url host_name  host_since  \\\n",
       "13798  https://www.airbnb.com/users/show/107497569     Kevin  2016-12-16   \n",
       "\n",
       "                  host_location  \\\n",
       "13798  Toronto, Ontario, Canada   \n",
       "\n",
       "                                              host_about host_response_time  \\\n",
       "13798  Hello everyone, my name is Kevin. I’m new doin...     within an hour   \n",
       "\n",
       "      host_response_rate host_acceptance_rate host_is_superhost  \\\n",
       "13798                89%                  98%                 f   \n",
       "\n",
       "                                      host_thumbnail_url  \\\n",
       "13798  https://a0.muscache.com/im/pictures/user/af8fc...   \n",
       "\n",
       "                                        host_picture_url  \\\n",
       "13798  https://a0.muscache.com/im/pictures/user/af8fc...   \n",
       "\n",
       "           host_neighbourhood  host_listings_count  host_total_listings_count  \\\n",
       "13798  Entertainment District                  3.0                        3.0   \n",
       "\n",
       "                                      host_verifications host_has_profile_pic  \\\n",
       "13798  ['email', 'phone', 'offline_government_id', 's...                    t   \n",
       "\n",
       "      host_identity_verified             neighbourhood  \\\n",
       "13798                      t  Toronto, Ontario, Canada   \n",
       "\n",
       "                  neighbourhood_cleansed  neighbourhood_group_cleansed  \\\n",
       "13798  Waterfront Communities-The Island                           NaN   \n",
       "\n",
       "       latitude  longitude       property_type        room_type  accommodates  \\\n",
       "13798  43.64223  -79.38304  Entire condominium  Entire home/apt             4   \n",
       "\n",
       "       bathrooms bathrooms_text  bedrooms  beds  \\\n",
       "13798        NaN         1 bath       1.0   2.0   \n",
       "\n",
       "                                               amenities    price  \\\n",
       "13798  [\"Hangers\", \"Coffee maker\", \"Carbon monoxide a...  $158.00   \n",
       "\n",
       "       minimum_nights  maximum_nights  minimum_minimum_nights  \\\n",
       "13798               1            1125                       1   \n",
       "\n",
       "       maximum_minimum_nights  minimum_maximum_nights  maximum_maximum_nights  \\\n",
       "13798                       2                    1125                    1125   \n",
       "\n",
       "       minimum_nights_avg_ntm  maximum_nights_avg_ntm  calendar_updated  \\\n",
       "13798                     1.0                  1125.0               NaN   \n",
       "\n",
       "      has_availability  availability_30  availability_60  availability_90  \\\n",
       "13798                t                0                0                0   \n",
       "\n",
       "       availability_365 calendar_last_scraped  number_of_reviews  \\\n",
       "13798                 0            2020-10-24                 35   \n",
       "\n",
       "       number_of_reviews_ltm  number_of_reviews_l30d first_review last_review  \\\n",
       "13798                     23                       0   2019-09-08  2020-07-26   \n",
       "\n",
       "       review_scores_rating  review_scores_accuracy  \\\n",
       "13798                  91.0                     9.0   \n",
       "\n",
       "       review_scores_cleanliness  review_scores_checkin  \\\n",
       "13798                        9.0                    9.0   \n",
       "\n",
       "       review_scores_communication  review_scores_location  \\\n",
       "13798                          9.0                    10.0   \n",
       "\n",
       "       review_scores_value  license instant_bookable  \\\n",
       "13798                  9.0      NaN                t   \n",
       "\n",
       "       calculated_host_listings_count  \\\n",
       "13798                               2   \n",
       "\n",
       "       calculated_host_listings_count_entire_homes  \\\n",
       "13798                                            2   \n",
       "\n",
       "       calculated_host_listings_count_private_rooms  \\\n",
       "13798                                             0   \n",
       "\n",
       "       calculated_host_listings_count_shared_rooms  reviews_per_month  \n",
       "13798                                            0               2.54  "
      ]
     },
     "execution_count": 62,
     "metadata": {},
     "output_type": "execute_result"
    }
   ],
   "source": [
    "df_2019_ag_dirty = pd.read_csv('data\\listings 2020 Oct.csv.gz', compression = 'gzip')\n",
    "df_2019_ag_dirty.loc[df_2019_ag_dirty['id']==38076531]"
   ]
  },
  {
   "cell_type": "code",
   "execution_count": null,
   "metadata": {},
   "outputs": [],
   "source": []
  }
 ],
 "metadata": {
  "kernelspec": {
   "display_name": "Python 3",
   "language": "python",
   "name": "python3"
  },
  "language_info": {
   "codemirror_mode": {
    "name": "ipython",
    "version": 3
   },
   "file_extension": ".py",
   "mimetype": "text/x-python",
   "name": "python",
   "nbconvert_exporter": "python",
   "pygments_lexer": "ipython3",
   "version": "3.7.1"
  }
 },
 "nbformat": 4,
 "nbformat_minor": 2
}
